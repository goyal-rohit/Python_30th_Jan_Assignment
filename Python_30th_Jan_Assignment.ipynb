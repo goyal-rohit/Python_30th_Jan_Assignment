{
 "cells": [
  {
   "cell_type": "markdown",
   "id": "55c4f6d6-3775-42a5-b7aa-99f29419ae89",
   "metadata": {},
   "source": [
    "Q1: Write a program to accept percentage from the user and display the grade according to the criteria: "
   ]
  },
  {
   "cell_type": "code",
   "execution_count": 5,
   "id": "0f343218-d248-4ca0-8ba2-4effccfd0b3f",
   "metadata": {},
   "outputs": [
    {
     "name": "stdin",
     "output_type": "stream",
     "text": [
      "Please enter your marks 50\n"
     ]
    },
    {
     "name": "stdout",
     "output_type": "stream",
     "text": [
      "The Grade is D\n"
     ]
    }
   ],
   "source": [
    "marks = float(input(\"Please enter your marks\"))\n",
    "if marks>90:\n",
    "    grade = \"A\"\n",
    "elif marks>80:\n",
    "    grade = \"B\"\n",
    "elif marks>=60:\n",
    "    grade = \"C\"\n",
    "else:\n",
    "    grade = \"D\"\n",
    "print(f\"The Grade is {grade}\")"
   ]
  },
  {
   "cell_type": "markdown",
   "id": "96138c6f-1a04-4906-ad9b-e40e049f1e1f",
   "metadata": {},
   "source": [
    "Q2.  Write a program to accept the cost price of a bike and display the road tax to be paid according to the  criteria"
   ]
  },
  {
   "cell_type": "code",
   "execution_count": 7,
   "id": "c4c40075-b3eb-455e-a929-75c859da9193",
   "metadata": {},
   "outputs": [
    {
     "name": "stdin",
     "output_type": "stream",
     "text": [
      "Please enter the price of the bike 1000000\n"
     ]
    },
    {
     "name": "stdout",
     "output_type": "stream",
     "text": [
      "The Road tax to be paid is 150000.0\n"
     ]
    }
   ],
   "source": [
    "price = float(input(\"Please enter the price of the bike\"))\n",
    "if price>100000:\n",
    "    tax = 0.15\n",
    "elif price>50000:\n",
    "    tax = 0.10\n",
    "else:\n",
    "    tax = 0.05\n",
    "\n",
    "print(f\"The Road tax to be paid is {price*tax}\")"
   ]
  },
  {
   "cell_type": "markdown",
   "id": "b7f34589-9587-476b-b48d-a9f9577d2f5b",
   "metadata": {},
   "source": [
    "Q3. Accept any city from the user and display monuments of that city."
   ]
  },
  {
   "cell_type": "code",
   "execution_count": 12,
   "id": "0e2f093d-08a7-454e-b669-c21516d515b3",
   "metadata": {},
   "outputs": [
    {
     "name": "stdin",
     "output_type": "stream",
     "text": [
      "Please enter a city of your choice from the following\n",
      "Delhi; Agra; Jaipur JaiPur\n"
     ]
    },
    {
     "name": "stdout",
     "output_type": "stream",
     "text": [
      "The Monument in city Jaipur is Jal Mahal\n"
     ]
    }
   ],
   "source": [
    "city = input(\"Please enter a city of your choice from the following\\nDelhi; Agra; Jaipur\")\n",
    "if city.lower()==\"delhi\":\n",
    "    print(f\"The Monument in city {city.capitalize()} is Red Fort\")\n",
    "elif city.lower()==\"agra\":\n",
    "    print(f\"The Monument in city {city.capitalize()} is Taj Mahal\")\n",
    "elif city.lower()==\"jaipur\":\n",
    "    print(f\"The Monument in city {city.capitalize()} is Jal Mahal\")\n",
    "else:\n",
    "    print(\"Please re-run the code and enter correct city\")"
   ]
  },
  {
   "cell_type": "markdown",
   "id": "84eef3c2-7fa1-4ea6-a013-56802f12a98f",
   "metadata": {},
   "source": [
    "Q4.  Check how many times a given number can be divided by 3 before it is less than or equal to 10. "
   ]
  },
  {
   "cell_type": "code",
   "execution_count": 15,
   "id": "5453e075-e07a-4b8f-a821-aee9695659a6",
   "metadata": {},
   "outputs": [
    {
     "name": "stdin",
     "output_type": "stream",
     "text": [
      "Please enter a number 50\n"
     ]
    },
    {
     "name": "stdout",
     "output_type": "stream",
     "text": [
      "2\n"
     ]
    }
   ],
   "source": [
    "num = int(input(\"Please enter a number\"))\n",
    "count=0\n",
    "while num>10:\n",
    "    num = num//3\n",
    "    count = count+1\n",
    "print(count)"
   ]
  },
  {
   "cell_type": "markdown",
   "id": "86977451-da60-470c-909d-25aeeaabd72d",
   "metadata": {},
   "source": [
    "Q5. Why and When to Use while Loop in Python give a detailed description with example "
   ]
  },
  {
   "cell_type": "markdown",
   "id": "775ba1ea-2a49-4095-9033-28fc5ffe9a19",
   "metadata": {},
   "source": [
    "We use while loop when there is a requirement of iteration, but the number of iterations aren't defined."
   ]
  },
  {
   "cell_type": "markdown",
   "id": "cfa80305-13ec-4d08-92bc-76d300f1981d",
   "metadata": {},
   "source": [
    "Q6. Use nested while loop to print different pattern. "
   ]
  },
  {
   "cell_type": "code",
   "execution_count": 16,
   "id": "7bc24444-b5c4-4b26-925b-2f6a9613b647",
   "metadata": {},
   "outputs": [
    {
     "name": "stdout",
     "output_type": "stream",
     "text": [
      "*\n",
      "**\n",
      "***\n",
      "****\n",
      "*****\n",
      "******\n",
      "*******\n"
     ]
    }
   ],
   "source": [
    "n=7\n",
    "\n",
    "for i in range(0,n):\n",
    "    for j in range(0,i+1):\n",
    "        print(\"*\", end =\"\")\n",
    "    print(\"\\r\")"
   ]
  },
  {
   "cell_type": "code",
   "execution_count": 17,
   "id": "e60e2509-a2e3-49b3-9399-fe7d0216af72",
   "metadata": {},
   "outputs": [
    {
     "name": "stdin",
     "output_type": "stream",
     "text": [
      "Please enter the number:  7\n"
     ]
    },
    {
     "name": "stdout",
     "output_type": "stream",
     "text": [
      "       * \n",
      "      * * \n",
      "     * * * \n",
      "    * * * * \n",
      "   * * * * * \n",
      "  * * * * * * \n",
      " * * * * * * * \n"
     ]
    }
   ],
   "source": [
    "n=int(input(\"Please enter the number: \"))\n",
    "\n",
    "for i in range(0,n):\n",
    "    for j in range (0,n-i):\n",
    "        print(\" \", end=\"\")\n",
    "    for j in range(0,i+1):\n",
    "        print(\"* \",end=\"\")\n",
    "    print(\"\\r\")"
   ]
  },
  {
   "cell_type": "markdown",
   "id": "6fb12db1-753f-4e00-ba45-4009ce327da4",
   "metadata": {},
   "source": [
    "Q7. Reverse a while loop to display numbers from 10 to 1"
   ]
  },
  {
   "cell_type": "code",
   "execution_count": 19,
   "id": "0eeb3969-ad3b-4233-ba20-749ccd16e2f8",
   "metadata": {},
   "outputs": [
    {
     "name": "stdout",
     "output_type": "stream",
     "text": [
      "10\n",
      "9\n",
      "8\n",
      "7\n",
      "6\n",
      "5\n",
      "4\n",
      "3\n",
      "2\n",
      "1\n"
     ]
    }
   ],
   "source": [
    "numb=10\n",
    "while numb>0:\n",
    "    print(numb)\n",
    "    numb-=1"
   ]
  },
  {
   "cell_type": "code",
   "execution_count": null,
   "id": "098b1921-bc58-4c28-9ad8-18db2ed0a41b",
   "metadata": {},
   "outputs": [],
   "source": []
  }
 ],
 "metadata": {
  "kernelspec": {
   "display_name": "Python 3 (ipykernel)",
   "language": "python",
   "name": "python3"
  },
  "language_info": {
   "codemirror_mode": {
    "name": "ipython",
    "version": 3
   },
   "file_extension": ".py",
   "mimetype": "text/x-python",
   "name": "python",
   "nbconvert_exporter": "python",
   "pygments_lexer": "ipython3",
   "version": "3.9.13"
  }
 },
 "nbformat": 4,
 "nbformat_minor": 5
}
